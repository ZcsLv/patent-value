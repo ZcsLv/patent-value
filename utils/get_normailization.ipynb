{
 "cells": [
  {
   "cell_type": "code",
   "execution_count": null,
   "metadata": {},
   "outputs": [],
   "source": [
    "import pickle\n",
    "from sklearn.preprocessing import MinMaxScaler"
   ]
  },
  {
   "cell_type": "code",
   "execution_count": null,
   "metadata": {},
   "outputs": [],
   "source": [
    "file_path=\"../data/indictors11_test.pkl\"\n",
    "with open(file_path,\"rb\") as f:\n",
    "    datas=pickle.load(f)\n",
    "datas\n",
    "\n",
    "# 在保存到pickle文件之前就应该先将它归一化\n",
    "with open(file_path,\"rb\") as f:\n",
    "    datas=pickle.load(f)\n",
    "    for i in range(len(datas)):\n",
    "        lin = datas[i]\n",
    "        content,label = lin['abstract'],lin['grade']\n",
    "        # indictors=[lin['ind_claims'],lin['dep_claims'],lin['len_abstract'],\n",
    "        # lin['len_claims'],lin['num_inventors'],lin['back_incitions'],lin['num_family'],lin['cpcs'],lin['ipcs']]\n",
    "        indictors=[int(lin['ind_claims']),int(lin['dep_claims']),int(lin['len_abstract']),\n",
    "        int(lin['len_claims']),int(lin['num_inventors']),int(lin['back_incitions']),int(lin['num_family']),int(lin['cpcs']),int(lin['ipcs'])]\n",
    "\n"
   ]
  },
  {
   "cell_type": "code",
   "execution_count": null,
   "metadata": {},
   "outputs": [],
   "source": [
    "def normalization():\n",
    "    mm=MinMaxScaler()\n",
    "    data=mm.fit_transform([[90,2,10,40],\n",
    "                           [60,4,15,45],\n",
    "                           [75,3,13,46]])\n",
    "    print(data)\n",
    " \n",
    "if __name__==\"__main__\":\n",
    "     normalization()"
   ]
  },
  {
   "cell_type": "code",
   "execution_count": null,
   "metadata": {},
   "outputs": [],
   "source": [
    "from sklearn.preprocessing import StandardScaler\n",
    " \n",
    "def get_data(file_path):\n",
    "    contents=[]\n",
    "    with open(file_path,\"rb\") as f:\n",
    "        datas=pickle.load(f)\n",
    "        for i in range(len(datas)):\n",
    "            lin = datas[i]\n",
    "            # content,label = lin['abstract'],lin['grade']\n",
    "            # indictors=[lin['ind_claims'],lin['dep_claims'],lin['len_abstract'],\n",
    "            # lin['len_claims'],lin['num_inventors'],lin['back_incitions'],lin['num_family'],lin['cpcs'],lin['ipcs']]\n",
    "            indictors=[int(lin['ind_claims']),int(lin['dep_claims']),int(lin['len_abstract']),\n",
    "            int(lin['len_claims']),int(lin['num_inventors']),int(lin['back_incitions']),int(lin['num_family']),int(lin['cpcs']),int(lin['ipcs'])]\n",
    "            contents.append(indictors)\n",
    "    return contents\n",
    "print(get_data(\"../data/indictors11_test.pkl\"))\n"
   ]
  },
  {
   "cell_type": "code",
   "execution_count": null,
   "metadata": {},
   "outputs": [],
   "source": [
    "data=get_data(\"../data/indictors11_test.pkl\")"
   ]
  },
  {
   "cell_type": "code",
   "execution_count": null,
   "metadata": {},
   "outputs": [],
   "source": [
    "\n",
    "def standar(data):\n",
    "    st = StandardScaler()\n",
    "    data = st.fit_transform(data)  # 同一列的为一个特征\n",
    "    print(data)\n",
    " \n",
    "if __name__==\"__main__\":\n",
    "     standar(data)"
   ]
  }
 ],
 "metadata": {
  "kernelspec": {
   "display_name": "Python 3.7.13 ('py37')",
   "language": "python",
   "name": "python3"
  },
  "language_info": {
   "codemirror_mode": {
    "name": "ipython",
    "version": 3
   },
   "file_extension": ".py",
   "mimetype": "text/x-python",
   "name": "python",
   "nbconvert_exporter": "python",
   "pygments_lexer": "ipython3",
   "version": "3.7.13"
  },
  "orig_nbformat": 4,
  "vscode": {
   "interpreter": {
    "hash": "a4a847150c17a56e8ab8e8e7872ca30cb83471eb1df49153297cb018a7672186"
   }
  }
 },
 "nbformat": 4,
 "nbformat_minor": 2
}
